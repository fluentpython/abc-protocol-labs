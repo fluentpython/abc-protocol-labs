{
 "cells": [
  {
   "cell_type": "markdown",
   "metadata": {},
   "source": [
    "# Python Numeric ABCs and Protocols"
   ]
  },
  {
   "cell_type": "code",
   "execution_count": 1,
   "metadata": {},
   "outputs": [
    {
     "data": {
      "text/plain": [
       "'3.8.0 (v3.8.0:fa919fdf25, Oct 14 2019, 10:23:27) \\n[Clang 6.0 (clang-600.0.57)]'"
      ]
     },
     "execution_count": 1,
     "metadata": {},
     "output_type": "execute_result"
    }
   ],
   "source": [
    "import sys\n",
    "sys.version"
   ]
  },
  {
   "cell_type": "code",
   "execution_count": 2,
   "metadata": {},
   "outputs": [],
   "source": [
    "import itertools\n",
    "import numbers\n",
    "import operator\n",
    "import typing\n",
    "import numpy as np"
   ]
  },
  {
   "cell_type": "code",
   "execution_count": 16,
   "metadata": {},
   "outputs": [],
   "source": [
    "abcs = [numbers.Complex, numbers.Real, numbers.Integral]\n",
    "protocols = [typing.SupportsComplex, typing.SupportsFloat, typing.SupportsInt,\n",
    "             typing.SupportsIndex]\n",
    "py_nums = [complex, float, int]\n",
    "converters = py_nums + [operator.index]\n",
    "np_nums = [np.complex64, np.float16, np.uint8]\n",
    "types = [t for pair in itertools.zip_longest(py_nums, np_nums) for t in pair]\n",
    "ifaces = [t for pair in itertools.zip_longest(abcs, protocols, converters) for t in pair]"
   ]
  },
  {
   "cell_type": "code",
   "execution_count": 21,
   "metadata": {},
   "outputs": [
    {
     "name": "stdout",
     "output_type": "stream",
     "text": [
      "                |  builtins |   numpy   |  builtins |   numpy   |  builtins |   numpy   |\n",
      "                |  complex  | complex64 |   float   |  float16  |    int    |   uint8   |\n",
      "-----------------------------------------------------------------------------------------\n",
      "         samples|   (1+0j)  |   (1+0j)  |    1.0    |    1.0    |     1     |     1     |\n",
      "-----------------------------------------------------------------------------------------\n",
      " numbers.Complex|     •     |     •     |     •     |     •     |     •     |     •     |\n",
      " SupportsComplex|           |     •     |           |           |           |           |\n",
      "         complex|   (1+0j)  |   (1+0j)  |   (1+0j)  |   (1+0j)  |   (1+0j)  |   (1+0j)  |\n",
      "-----------------------------------------------------------------------------------------\n",
      "    numbers.Real|           |           |     •     |     •     |     •     |     •     |\n",
      "   SupportsFloat|     •     |     •     |     •     |     •     |     •     |     •     |\n",
      "           float| TypeError |    1.0    |    1.0    |    1.0    |    1.0    |    1.0    |\n",
      "-----------------------------------------------------------------------------------------\n",
      "numbers.Integral|           |           |           |           |     •     |     •     |\n",
      "     SupportsInt|     •     |     •     |     •     |     •     |     •     |     •     |\n",
      "             int| TypeError |     1     |     1     |     1     |     1     |     1     |\n",
      "-----------------------------------------------------------------------------------------\n",
      "   SupportsIndex|           |           |           |           |     •     |     •     |\n",
      "           index| TypeError | TypeError | TypeError | TypeError |     1     |     1     |\n",
      "-----------------------------------------------------------------------------------------\n"
     ]
    },
    {
     "name": "stderr",
     "output_type": "stream",
     "text": [
      "<ipython-input-21-0016412658d8>:32: ComplexWarning: Casting complex values to real discards the imaginary part\n",
      "  new = iface(obj)\n"
     ]
    }
   ],
   "source": [
    "border = '-' * 89\n",
    "print(' ' * 16, end='')\n",
    "for t in types:\n",
    "    print(f'| {t.__module__:^10}', end='')\n",
    "print('|')\n",
    "\n",
    "print(' ' * 16, end='')\n",
    "for t in types:\n",
    "    print(f'| {t.__name__:^10}', end='')\n",
    "print('|\\n' + border)\n",
    "\n",
    "print('samples'.rjust(16), end='')\n",
    "for t in types:\n",
    "    obj = t(1)\n",
    "    print(f'| {obj!r:^10}', end='')           \n",
    "print('|\\n' + border)\n",
    "\n",
    "\n",
    "for iface in ifaces:\n",
    "    if iface is None:\n",
    "        continue\n",
    "    # row heading\n",
    "    name = iface.__name__\n",
    "    if iface.__module__ == 'numbers':\n",
    "        name = 'numbers.' + name\n",
    "    print(f'{name:>16}', end='')\n",
    "    # cells\n",
    "    if iface in converters:\n",
    "        for t in types:\n",
    "            obj = t(1)\n",
    "            try:\n",
    "                new = iface(obj)\n",
    "            except TypeError as e:\n",
    "                new = e.__class__.__name__\n",
    "            print(f'| {new:^10}', end='')           \n",
    "        print('|\\n' + border)\n",
    "    else:\n",
    "        for t in types:\n",
    "            mark = '•' if issubclass(t, iface) else ''\n",
    "            print(f'| {mark:^10}', end='')           \n",
    "        print('|')"
   ]
  },
  {
   "cell_type": "code",
   "execution_count": null,
   "metadata": {},
   "outputs": [],
   "source": []
  },
  {
   "cell_type": "code",
   "execution_count": null,
   "metadata": {},
   "outputs": [],
   "source": []
  }
 ],
 "metadata": {
  "kernelspec": {
   "display_name": "Python 3",
   "language": "python",
   "name": "python3"
  },
  "language_info": {
   "codemirror_mode": {
    "name": "ipython",
    "version": 3
   },
   "file_extension": ".py",
   "mimetype": "text/x-python",
   "name": "python",
   "nbconvert_exporter": "python",
   "pygments_lexer": "ipython3",
   "version": "3.8.0"
  }
 },
 "nbformat": 4,
 "nbformat_minor": 4
}
